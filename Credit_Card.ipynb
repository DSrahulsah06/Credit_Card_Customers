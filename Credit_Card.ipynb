{
 "cells": [
  {
   "cell_type": "code",
   "execution_count": 1,
   "metadata": {
    "scrolled": true
   },
   "outputs": [
    {
     "name": "stderr",
     "output_type": "stream",
     "text": [
      "C:\\Users\\rahul.s\\AppData\\Local\\Continuum\\anaconda3\\lib\\site-packages\\sklearn\\externals\\six.py:31: DeprecationWarning: The module is deprecated in version 0.21 and will be removed in version 0.23 since we've dropped support for Python 2.7. Please rely on the official version of six (https://pypi.org/project/six/).\n",
      "  \"(https://pypi.org/project/six/).\", DeprecationWarning)\n"
     ]
    }
   ],
   "source": [
    "# System Libraries\n",
    "import warnings\n",
    "warnings.filterwarnings(\"ignore\")\n",
    "\n",
    "# Handle missing values\n",
    "from sklearn.experimental import enable_iterative_imputer\n",
    "from sklearn.impute import IterativeImputer\n",
    "from sklearn.ensemble import ExtraTreesRegressor\n",
    "\n",
    "# Data manipulation Libraries\n",
    "import pandas as pd\n",
    "import numpy as np\n",
    "from sklearn.preprocessing import LabelEncoder # Import LabelEncoder() function\n",
    "from sklearn.model_selection import train_test_split # Import train test split function\n",
    "\n",
    "# Model Libraries \n",
    "from sklearn.ensemble import RandomForestClassifier # Import Decision Tree Classifier\n",
    "from sklearn import metrics #Import scikit-learn metrics module for accuracy calculation\n",
    "\n",
    "# Visualization Libraries\n",
    "from sklearn.tree.export import export_text # Extract Tree rules\n",
    "from sklearn.tree import export_graphviz\n",
    "from sklearn.externals.six import StringIO  \n",
    "from IPython.display import Image \n",
    "import pydotplus\n",
    "import matplotlib.pyplot as plt\n",
    "import seaborn as sns"
   ]
  },
  {
   "cell_type": "code",
   "execution_count": 2,
   "metadata": {},
   "outputs": [],
   "source": [
    "## Funcion to check if a column name is part of list or not\n",
    "def columnCheck(list1,list2,listName):\n",
    "    try:\n",
    "           if (set(list1).issubset(list2)) == False:\n",
    "               raise NameError()\n",
    "    except:\n",
    "           print(\"Please ensure columns are available in \" + listName + \" list\")"
   ]
  },
  {
   "cell_type": "markdown",
   "metadata": {},
   "source": [
    "path = \"C:/Users/rahul.s/Desktop/Credit Data.xlsx\""
   ]
  },
  {
   "cell_type": "markdown",
   "metadata": {},
   "source": [
    "# Load the dataset¶\n",
    "Let's load the dataset and have a look at all the variables available"
   ]
  },
  {
   "cell_type": "code",
   "execution_count": 3,
   "metadata": {},
   "outputs": [
    {
     "name": "stdout",
     "output_type": "stream",
     "text": [
      "Columns available:\n",
      " Index(['Customer ID', 'Card Type', 'Product', 'Balance', 'Balance Frequency',\n",
      "       'Purchases', 'One Off Purchases', 'Installment Purchases',\n",
      "       'Cash Advance', 'Purchase Frequency', 'One Off Purchase Frequency',\n",
      "       'Purchases Installments Frequency', 'Cash Advance Frequency',\n",
      "       'Cash Advance Transactions', 'Purchases Transactions', 'Credit Limit',\n",
      "       'Payments', 'Minimum Payments', 'Percentage Full Payment', 'Tenure',\n",
      "       'Attrited'],\n",
      "      dtype='object')\n",
      "\n",
      "\n",
      "Dataset:\n",
      "    Customer ID Card Type Product  Balance  Balance Frequency  Purchases  \\\n",
      "0        10001  Standard  Silver      409           0.818182        954   \n",
      "1        10002  Standard  Silver    32025           0.909091          0   \n",
      "2        10003  Standard  Silver    24951           1.000000       7732   \n",
      "3        10004  Standard  Silver    16667           0.636364      14990   \n",
      "4        10005  Standard  Silver     8177           1.000000        160   \n",
      "\n",
      "   One Off Purchases  Installment Purchases  Cash Advance  Purchase Frequency  \\\n",
      "0                  0                    954             0            0.166667   \n",
      "1                  0                      0         64429            0.000000   \n",
      "2               7732                      0             0            1.000000   \n",
      "3              14990                      0          2058            0.083333   \n",
      "4                160                      0             0            0.083333   \n",
      "\n",
      "   ...  Purchases Installments Frequency  Cash Advance Frequency  \\\n",
      "0  ...                          0.083333                0.000000   \n",
      "1  ...                          0.000000                0.250000   \n",
      "2  ...                          0.000000                0.000000   \n",
      "3  ...                          0.000000                0.083333   \n",
      "4  ...                          0.000000                0.000000   \n",
      "\n",
      "   Cash Advance Transactions  Purchases Transactions  Credit Limit  Payments  \\\n",
      "0                          0                       2         10000      2018   \n",
      "1                          4                       0         70000     41030   \n",
      "2                          0                      12         75000      6221   \n",
      "3                          1                       1         75000         0   \n",
      "4                          0                       1         12000      6783   \n",
      "\n",
      "   Minimum Payments  Percentage Full Payment  Tenure  Attrited  \n",
      "0              1395                 0.000000      12         0  \n",
      "1             10723                 0.222222      12         0  \n",
      "2              6273                 0.000000      12         0  \n",
      "3                 0                 0.000000      12         0  \n",
      "4              2448                 0.000000      12         0  \n",
      "\n",
      "[5 rows x 21 columns]\n"
     ]
    }
   ],
   "source": [
    "credit1 = pd.read_excel('C:/Users/rahul.s/Desktop/Credit Data.xlsx')\n",
    "print(\"Columns available:\\n\",credit1.columns)\n",
    "print(\"\\n\\nDataset:\\n\",credit1.head())"
   ]
  },
  {
   "cell_type": "code",
   "execution_count": 4,
   "metadata": {},
   "outputs": [
    {
     "data": {
      "text/html": [
       "<div>\n",
       "<style scoped>\n",
       "    .dataframe tbody tr th:only-of-type {\n",
       "        vertical-align: middle;\n",
       "    }\n",
       "\n",
       "    .dataframe tbody tr th {\n",
       "        vertical-align: top;\n",
       "    }\n",
       "\n",
       "    .dataframe thead th {\n",
       "        text-align: right;\n",
       "    }\n",
       "</style>\n",
       "<table border=\"1\" class=\"dataframe\">\n",
       "  <thead>\n",
       "    <tr style=\"text-align: right;\">\n",
       "      <th></th>\n",
       "      <th>Card Type</th>\n",
       "      <th>Product</th>\n",
       "      <th>Balance</th>\n",
       "      <th>Balance Frequency</th>\n",
       "      <th>Purchases</th>\n",
       "      <th>One Off Purchases</th>\n",
       "      <th>Installment Purchases</th>\n",
       "      <th>Cash Advance</th>\n",
       "      <th>Purchase Frequency</th>\n",
       "      <th>One Off Purchase Frequency</th>\n",
       "      <th>Purchases Installments Frequency</th>\n",
       "      <th>Cash Advance Frequency</th>\n",
       "      <th>Cash Advance Transactions</th>\n",
       "      <th>Purchases Transactions</th>\n",
       "      <th>Credit Limit</th>\n",
       "      <th>Payments</th>\n",
       "      <th>Minimum Payments</th>\n",
       "      <th>Percentage Full Payment</th>\n",
       "      <th>Tenure</th>\n",
       "      <th>Attrited</th>\n",
       "    </tr>\n",
       "  </thead>\n",
       "  <tbody>\n",
       "    <tr>\n",
       "      <th>0</th>\n",
       "      <td>Standard</td>\n",
       "      <td>Silver</td>\n",
       "      <td>409</td>\n",
       "      <td>0.818182</td>\n",
       "      <td>954</td>\n",
       "      <td>0</td>\n",
       "      <td>954</td>\n",
       "      <td>0</td>\n",
       "      <td>0.166667</td>\n",
       "      <td>0.000000</td>\n",
       "      <td>0.083333</td>\n",
       "      <td>0.000000</td>\n",
       "      <td>0</td>\n",
       "      <td>2</td>\n",
       "      <td>10000</td>\n",
       "      <td>2018</td>\n",
       "      <td>1395</td>\n",
       "      <td>0.000000</td>\n",
       "      <td>12</td>\n",
       "      <td>0</td>\n",
       "    </tr>\n",
       "    <tr>\n",
       "      <th>1</th>\n",
       "      <td>Standard</td>\n",
       "      <td>Silver</td>\n",
       "      <td>32025</td>\n",
       "      <td>0.909091</td>\n",
       "      <td>0</td>\n",
       "      <td>0</td>\n",
       "      <td>0</td>\n",
       "      <td>64429</td>\n",
       "      <td>0.000000</td>\n",
       "      <td>0.000000</td>\n",
       "      <td>0.000000</td>\n",
       "      <td>0.250000</td>\n",
       "      <td>4</td>\n",
       "      <td>0</td>\n",
       "      <td>70000</td>\n",
       "      <td>41030</td>\n",
       "      <td>10723</td>\n",
       "      <td>0.222222</td>\n",
       "      <td>12</td>\n",
       "      <td>0</td>\n",
       "    </tr>\n",
       "    <tr>\n",
       "      <th>2</th>\n",
       "      <td>Standard</td>\n",
       "      <td>Silver</td>\n",
       "      <td>24951</td>\n",
       "      <td>1.000000</td>\n",
       "      <td>7732</td>\n",
       "      <td>7732</td>\n",
       "      <td>0</td>\n",
       "      <td>0</td>\n",
       "      <td>1.000000</td>\n",
       "      <td>1.000000</td>\n",
       "      <td>0.000000</td>\n",
       "      <td>0.000000</td>\n",
       "      <td>0</td>\n",
       "      <td>12</td>\n",
       "      <td>75000</td>\n",
       "      <td>6221</td>\n",
       "      <td>6273</td>\n",
       "      <td>0.000000</td>\n",
       "      <td>12</td>\n",
       "      <td>0</td>\n",
       "    </tr>\n",
       "    <tr>\n",
       "      <th>3</th>\n",
       "      <td>Standard</td>\n",
       "      <td>Silver</td>\n",
       "      <td>16667</td>\n",
       "      <td>0.636364</td>\n",
       "      <td>14990</td>\n",
       "      <td>14990</td>\n",
       "      <td>0</td>\n",
       "      <td>2058</td>\n",
       "      <td>0.083333</td>\n",
       "      <td>0.083333</td>\n",
       "      <td>0.000000</td>\n",
       "      <td>0.083333</td>\n",
       "      <td>1</td>\n",
       "      <td>1</td>\n",
       "      <td>75000</td>\n",
       "      <td>0</td>\n",
       "      <td>0</td>\n",
       "      <td>0.000000</td>\n",
       "      <td>12</td>\n",
       "      <td>0</td>\n",
       "    </tr>\n",
       "    <tr>\n",
       "      <th>4</th>\n",
       "      <td>Standard</td>\n",
       "      <td>Silver</td>\n",
       "      <td>8177</td>\n",
       "      <td>1.000000</td>\n",
       "      <td>160</td>\n",
       "      <td>160</td>\n",
       "      <td>0</td>\n",
       "      <td>0</td>\n",
       "      <td>0.083333</td>\n",
       "      <td>0.083333</td>\n",
       "      <td>0.000000</td>\n",
       "      <td>0.000000</td>\n",
       "      <td>0</td>\n",
       "      <td>1</td>\n",
       "      <td>12000</td>\n",
       "      <td>6783</td>\n",
       "      <td>2448</td>\n",
       "      <td>0.000000</td>\n",
       "      <td>12</td>\n",
       "      <td>0</td>\n",
       "    </tr>\n",
       "  </tbody>\n",
       "</table>\n",
       "</div>"
      ],
      "text/plain": [
       "  Card Type Product  Balance  Balance Frequency  Purchases  One Off Purchases  \\\n",
       "0  Standard  Silver      409           0.818182        954                  0   \n",
       "1  Standard  Silver    32025           0.909091          0                  0   \n",
       "2  Standard  Silver    24951           1.000000       7732               7732   \n",
       "3  Standard  Silver    16667           0.636364      14990              14990   \n",
       "4  Standard  Silver     8177           1.000000        160                160   \n",
       "\n",
       "   Installment Purchases  Cash Advance  Purchase Frequency  \\\n",
       "0                    954             0            0.166667   \n",
       "1                      0         64429            0.000000   \n",
       "2                      0             0            1.000000   \n",
       "3                      0          2058            0.083333   \n",
       "4                      0             0            0.083333   \n",
       "\n",
       "   One Off Purchase Frequency  Purchases Installments Frequency  \\\n",
       "0                    0.000000                          0.083333   \n",
       "1                    0.000000                          0.000000   \n",
       "2                    1.000000                          0.000000   \n",
       "3                    0.083333                          0.000000   \n",
       "4                    0.083333                          0.000000   \n",
       "\n",
       "   Cash Advance Frequency  Cash Advance Transactions  Purchases Transactions  \\\n",
       "0                0.000000                          0                       2   \n",
       "1                0.250000                          4                       0   \n",
       "2                0.000000                          0                      12   \n",
       "3                0.083333                          1                       1   \n",
       "4                0.000000                          0                       1   \n",
       "\n",
       "   Credit Limit  Payments  Minimum Payments  Percentage Full Payment  Tenure  \\\n",
       "0         10000      2018              1395                 0.000000      12   \n",
       "1         70000     41030             10723                 0.222222      12   \n",
       "2         75000      6221              6273                 0.000000      12   \n",
       "3         75000         0                 0                 0.000000      12   \n",
       "4         12000      6783              2448                 0.000000      12   \n",
       "\n",
       "   Attrited  \n",
       "0         0  \n",
       "1         0  \n",
       "2         0  \n",
       "3         0  \n",
       "4         0  "
      ]
     },
     "execution_count": 4,
     "metadata": {},
     "output_type": "execute_result"
    }
   ],
   "source": [
    "credit = credit1.drop(['Customer ID'],axis=1)\n",
    "credit.head()"
   ]
  },
  {
   "cell_type": "code",
   "execution_count": 5,
   "metadata": {},
   "outputs": [
    {
     "data": {
      "text/plain": [
       "(8950, 20)"
      ]
     },
     "execution_count": 5,
     "metadata": {},
     "output_type": "execute_result"
    }
   ],
   "source": [
    "credit.shape"
   ]
  },
  {
   "cell_type": "code",
   "execution_count": 6,
   "metadata": {},
   "outputs": [
    {
     "data": {
      "text/html": [
       "<div>\n",
       "<style scoped>\n",
       "    .dataframe tbody tr th:only-of-type {\n",
       "        vertical-align: middle;\n",
       "    }\n",
       "\n",
       "    .dataframe tbody tr th {\n",
       "        vertical-align: top;\n",
       "    }\n",
       "\n",
       "    .dataframe thead th {\n",
       "        text-align: right;\n",
       "    }\n",
       "</style>\n",
       "<table border=\"1\" class=\"dataframe\">\n",
       "  <thead>\n",
       "    <tr style=\"text-align: right;\">\n",
       "      <th></th>\n",
       "      <th>Balance</th>\n",
       "      <th>Balance Frequency</th>\n",
       "      <th>Purchases</th>\n",
       "      <th>One Off Purchases</th>\n",
       "      <th>Installment Purchases</th>\n",
       "      <th>Cash Advance</th>\n",
       "      <th>Purchase Frequency</th>\n",
       "      <th>One Off Purchase Frequency</th>\n",
       "      <th>Purchases Installments Frequency</th>\n",
       "      <th>Cash Advance Frequency</th>\n",
       "      <th>Cash Advance Transactions</th>\n",
       "      <th>Purchases Transactions</th>\n",
       "      <th>Credit Limit</th>\n",
       "      <th>Payments</th>\n",
       "      <th>Minimum Payments</th>\n",
       "      <th>Percentage Full Payment</th>\n",
       "      <th>Tenure</th>\n",
       "      <th>Attrited</th>\n",
       "    </tr>\n",
       "  </thead>\n",
       "  <tbody>\n",
       "    <tr>\n",
       "      <th>count</th>\n",
       "      <td>8950.00000</td>\n",
       "      <td>8950.000000</td>\n",
       "      <td>8950.000000</td>\n",
       "      <td>8950.000000</td>\n",
       "      <td>8950.000000</td>\n",
       "      <td>8950.000000</td>\n",
       "      <td>8950.000000</td>\n",
       "      <td>8950.000000</td>\n",
       "      <td>8950.000000</td>\n",
       "      <td>8950.000000</td>\n",
       "      <td>8950.000000</td>\n",
       "      <td>8950.000000</td>\n",
       "      <td>8950.000000</td>\n",
       "      <td>8950.000000</td>\n",
       "      <td>8950.000000</td>\n",
       "      <td>8950.000000</td>\n",
       "      <td>8950.000000</td>\n",
       "      <td>8950.000000</td>\n",
       "    </tr>\n",
       "    <tr>\n",
       "      <th>mean</th>\n",
       "      <td>15644.74648</td>\n",
       "      <td>0.877271</td>\n",
       "      <td>10032.081341</td>\n",
       "      <td>5924.396089</td>\n",
       "      <td>4110.695531</td>\n",
       "      <td>9788.712626</td>\n",
       "      <td>0.490351</td>\n",
       "      <td>0.202458</td>\n",
       "      <td>0.364437</td>\n",
       "      <td>0.135144</td>\n",
       "      <td>3.248827</td>\n",
       "      <td>14.709832</td>\n",
       "      <td>44939.472737</td>\n",
       "      <td>17331.437989</td>\n",
       "      <td>8339.833966</td>\n",
       "      <td>0.153715</td>\n",
       "      <td>11.517318</td>\n",
       "      <td>0.215307</td>\n",
       "    </tr>\n",
       "    <tr>\n",
       "      <th>std</th>\n",
       "      <td>20815.31786</td>\n",
       "      <td>0.236904</td>\n",
       "      <td>21366.356826</td>\n",
       "      <td>16598.889720</td>\n",
       "      <td>9043.386261</td>\n",
       "      <td>20971.636594</td>\n",
       "      <td>0.401371</td>\n",
       "      <td>0.298336</td>\n",
       "      <td>0.397448</td>\n",
       "      <td>0.200121</td>\n",
       "      <td>6.824647</td>\n",
       "      <td>24.857649</td>\n",
       "      <td>36389.225442</td>\n",
       "      <td>28950.639913</td>\n",
       "      <td>23359.901483</td>\n",
       "      <td>0.292499</td>\n",
       "      <td>1.338331</td>\n",
       "      <td>0.411058</td>\n",
       "    </tr>\n",
       "    <tr>\n",
       "      <th>min</th>\n",
       "      <td>0.00000</td>\n",
       "      <td>0.000000</td>\n",
       "      <td>0.000000</td>\n",
       "      <td>0.000000</td>\n",
       "      <td>0.000000</td>\n",
       "      <td>0.000000</td>\n",
       "      <td>0.000000</td>\n",
       "      <td>0.000000</td>\n",
       "      <td>0.000000</td>\n",
       "      <td>0.000000</td>\n",
       "      <td>0.000000</td>\n",
       "      <td>0.000000</td>\n",
       "      <td>0.000000</td>\n",
       "      <td>0.000000</td>\n",
       "      <td>0.000000</td>\n",
       "      <td>0.000000</td>\n",
       "      <td>6.000000</td>\n",
       "      <td>0.000000</td>\n",
       "    </tr>\n",
       "    <tr>\n",
       "      <th>25%</th>\n",
       "      <td>1283.25000</td>\n",
       "      <td>0.888889</td>\n",
       "      <td>396.500000</td>\n",
       "      <td>0.000000</td>\n",
       "      <td>0.000000</td>\n",
       "      <td>0.000000</td>\n",
       "      <td>0.083333</td>\n",
       "      <td>0.000000</td>\n",
       "      <td>0.000000</td>\n",
       "      <td>0.000000</td>\n",
       "      <td>0.000000</td>\n",
       "      <td>1.000000</td>\n",
       "      <td>16000.000000</td>\n",
       "      <td>3833.000000</td>\n",
       "      <td>1630.000000</td>\n",
       "      <td>0.000000</td>\n",
       "      <td>12.000000</td>\n",
       "      <td>0.000000</td>\n",
       "    </tr>\n",
       "    <tr>\n",
       "      <th>50%</th>\n",
       "      <td>8734.00000</td>\n",
       "      <td>1.000000</td>\n",
       "      <td>3613.000000</td>\n",
       "      <td>380.000000</td>\n",
       "      <td>890.000000</td>\n",
       "      <td>0.000000</td>\n",
       "      <td>0.500000</td>\n",
       "      <td>0.083333</td>\n",
       "      <td>0.166667</td>\n",
       "      <td>0.000000</td>\n",
       "      <td>0.000000</td>\n",
       "      <td>7.000000</td>\n",
       "      <td>30000.000000</td>\n",
       "      <td>8569.000000</td>\n",
       "      <td>2896.500000</td>\n",
       "      <td>0.000000</td>\n",
       "      <td>12.000000</td>\n",
       "      <td>0.000000</td>\n",
       "    </tr>\n",
       "    <tr>\n",
       "      <th>75%</th>\n",
       "      <td>20541.50000</td>\n",
       "      <td>1.000000</td>\n",
       "      <td>11101.500000</td>\n",
       "      <td>5773.750000</td>\n",
       "      <td>4686.750000</td>\n",
       "      <td>11138.500000</td>\n",
       "      <td>0.916667</td>\n",
       "      <td>0.300000</td>\n",
       "      <td>0.750000</td>\n",
       "      <td>0.222222</td>\n",
       "      <td>4.000000</td>\n",
       "      <td>17.000000</td>\n",
       "      <td>65000.000000</td>\n",
       "      <td>19011.500000</td>\n",
       "      <td>7887.000000</td>\n",
       "      <td>0.142857</td>\n",
       "      <td>12.000000</td>\n",
       "      <td>0.000000</td>\n",
       "    </tr>\n",
       "    <tr>\n",
       "      <th>max</th>\n",
       "      <td>190431.00000</td>\n",
       "      <td>1.000000</td>\n",
       "      <td>490396.000000</td>\n",
       "      <td>407613.000000</td>\n",
       "      <td>225000.000000</td>\n",
       "      <td>471372.000000</td>\n",
       "      <td>1.000000</td>\n",
       "      <td>1.000000</td>\n",
       "      <td>1.000000</td>\n",
       "      <td>1.500000</td>\n",
       "      <td>123.000000</td>\n",
       "      <td>358.000000</td>\n",
       "      <td>300000.000000</td>\n",
       "      <td>507215.000000</td>\n",
       "      <td>764062.000000</td>\n",
       "      <td>1.000000</td>\n",
       "      <td>12.000000</td>\n",
       "      <td>1.000000</td>\n",
       "    </tr>\n",
       "  </tbody>\n",
       "</table>\n",
       "</div>"
      ],
      "text/plain": [
       "            Balance  Balance Frequency      Purchases  One Off Purchases  \\\n",
       "count    8950.00000        8950.000000    8950.000000        8950.000000   \n",
       "mean    15644.74648           0.877271   10032.081341        5924.396089   \n",
       "std     20815.31786           0.236904   21366.356826       16598.889720   \n",
       "min         0.00000           0.000000       0.000000           0.000000   \n",
       "25%      1283.25000           0.888889     396.500000           0.000000   \n",
       "50%      8734.00000           1.000000    3613.000000         380.000000   \n",
       "75%     20541.50000           1.000000   11101.500000        5773.750000   \n",
       "max    190431.00000           1.000000  490396.000000      407613.000000   \n",
       "\n",
       "       Installment Purchases   Cash Advance  Purchase Frequency  \\\n",
       "count            8950.000000    8950.000000         8950.000000   \n",
       "mean             4110.695531    9788.712626            0.490351   \n",
       "std              9043.386261   20971.636594            0.401371   \n",
       "min                 0.000000       0.000000            0.000000   \n",
       "25%                 0.000000       0.000000            0.083333   \n",
       "50%               890.000000       0.000000            0.500000   \n",
       "75%              4686.750000   11138.500000            0.916667   \n",
       "max            225000.000000  471372.000000            1.000000   \n",
       "\n",
       "       One Off Purchase Frequency  Purchases Installments Frequency  \\\n",
       "count                 8950.000000                       8950.000000   \n",
       "mean                     0.202458                          0.364437   \n",
       "std                      0.298336                          0.397448   \n",
       "min                      0.000000                          0.000000   \n",
       "25%                      0.000000                          0.000000   \n",
       "50%                      0.083333                          0.166667   \n",
       "75%                      0.300000                          0.750000   \n",
       "max                      1.000000                          1.000000   \n",
       "\n",
       "       Cash Advance Frequency  Cash Advance Transactions  \\\n",
       "count             8950.000000                8950.000000   \n",
       "mean                 0.135144                   3.248827   \n",
       "std                  0.200121                   6.824647   \n",
       "min                  0.000000                   0.000000   \n",
       "25%                  0.000000                   0.000000   \n",
       "50%                  0.000000                   0.000000   \n",
       "75%                  0.222222                   4.000000   \n",
       "max                  1.500000                 123.000000   \n",
       "\n",
       "       Purchases Transactions   Credit Limit       Payments  Minimum Payments  \\\n",
       "count             8950.000000    8950.000000    8950.000000       8950.000000   \n",
       "mean                14.709832   44939.472737   17331.437989       8339.833966   \n",
       "std                 24.857649   36389.225442   28950.639913      23359.901483   \n",
       "min                  0.000000       0.000000       0.000000          0.000000   \n",
       "25%                  1.000000   16000.000000    3833.000000       1630.000000   \n",
       "50%                  7.000000   30000.000000    8569.000000       2896.500000   \n",
       "75%                 17.000000   65000.000000   19011.500000       7887.000000   \n",
       "max                358.000000  300000.000000  507215.000000     764062.000000   \n",
       "\n",
       "       Percentage Full Payment       Tenure     Attrited  \n",
       "count              8950.000000  8950.000000  8950.000000  \n",
       "mean                  0.153715    11.517318     0.215307  \n",
       "std                   0.292499     1.338331     0.411058  \n",
       "min                   0.000000     6.000000     0.000000  \n",
       "25%                   0.000000    12.000000     0.000000  \n",
       "50%                   0.000000    12.000000     0.000000  \n",
       "75%                   0.142857    12.000000     0.000000  \n",
       "max                   1.000000    12.000000     1.000000  "
      ]
     },
     "execution_count": 6,
     "metadata": {},
     "output_type": "execute_result"
    }
   ],
   "source": [
    "credit.describe()"
   ]
  },
  {
   "cell_type": "code",
   "execution_count": 7,
   "metadata": {},
   "outputs": [
    {
     "data": {
      "text/plain": [
       "<matplotlib.axes._subplots.AxesSubplot at 0x1ba9f451048>"
      ]
     },
     "execution_count": 7,
     "metadata": {},
     "output_type": "execute_result"
    },
    {
     "data": {
      "image/png": "[encoded data removed]",
      "text/plain": [
       "<Figure size 432x288 with 2 Axes>"
      ]
     },
     "metadata": {
      "needs_background": "light"
     },
     "output_type": "display_data"
    }
   ],
   "source": [
    "sns.heatmap(credit.isnull())"
   ]
  },
  {
   "cell_type": "markdown",
   "metadata": {},
   "source": [
    "# EDA"
   ]
  },
  {
   "cell_type": "code",
   "execution_count": 8,
   "metadata": {},
   "outputs": [
    {
     "data": {
      "text/plain": [
       "<matplotlib.axes._subplots.AxesSubplot at 0x1ba9f7ee6d8>"
      ]
     },
     "execution_count": 8,
     "metadata": {},
     "output_type": "execute_result"
    },
    {
     "data": {
      "image/png": "[encoded data removed]",
      "text/plain": [
       "<Figure size 432x288 with 1 Axes>"
      ]
     },
     "metadata": {
      "needs_background": "light"
     },
     "output_type": "display_data"
    }
   ],
   "source": [
    "#to check number of people who attired.\n",
    "sns.countplot(x='Attrited',data=credit)"
   ]
  },
  {
   "cell_type": "code",
   "execution_count": 9,
   "metadata": {},
   "outputs": [
    {
     "data": {
      "text/plain": [
       "<matplotlib.axes._subplots.AxesSubplot at 0x1ba9f907048>"
      ]
     },
     "execution_count": 9,
     "metadata": {},
     "output_type": "execute_result"
    },
    {
     "data": {
      "image/png": "[encoded data removed]",
      "text/plain": [
       "<Figure size 432x288 with 1 Axes>"
      ]
     },
     "metadata": {
      "needs_background": "light"
     },
     "output_type": "display_data"
    }
   ],
   "source": [
    "#number of people that attired based on Tenure.\n",
    "sns.countplot(x='Attrited',data=credit,hue=\"Tenure\")"
   ]
  },
  {
   "cell_type": "code",
   "execution_count": 10,
   "metadata": {},
   "outputs": [
    {
     "data": {
      "text/plain": [
       "<matplotlib.axes._subplots.AxesSubplot at 0x1ba9f99c860>"
      ]
     },
     "execution_count": 10,
     "metadata": {},
     "output_type": "execute_result"
    },
    {
     "data": {
      "image/png": "[encoded data removed]",
      "text/plain": [
       "<Figure size 864x504 with 1 Axes>"
      ]
     },
     "metadata": {
      "needs_background": "light"
     },
     "output_type": "display_data"
    }
   ],
   "source": [
    "plt.figure(figsize=(12,7))\n",
    "sns.boxplot(x='Attrited',y='Credit Limit',data=credit,palette='winter')"
   ]
  },
  {
   "cell_type": "markdown",
   "metadata": {},
   "source": [
    "# Label Encoding and One-Hot Encoding On Card Type and Product"
   ]
  },
  {
   "cell_type": "code",
   "execution_count": 11,
   "metadata": {},
   "outputs": [
    {
     "name": "stdout",
     "output_type": "stream",
     "text": [
      "Label Encoded Columns:\n",
      "     Card Type  Product\n",
      "0           2        4\n",
      "1           2        4\n",
      "2           2        4\n",
      "3           2        4\n",
      "4           2        4\n",
      "5           2        4\n",
      "6           2        4\n",
      "7           2        4\n",
      "8           2        4\n",
      "9           2        4\n",
      "10          2        4\n",
      "11          2        4\n",
      "12          2        4\n",
      "13          2        4\n",
      "14          2        4\n",
      "15          2        4\n",
      "16          2        4\n",
      "17          2        4\n",
      "18          2        4\n",
      "19          2        4\n"
     ]
    }
   ],
   "source": [
    "label_encode = ['Card Type','Product']\n",
    "\n",
    "le = LabelEncoder() # instantiate labelencoder object\n",
    "credit[label_encode] = credit[label_encode].apply(lambda col: le.fit_transform(col))\n",
    "print(\"Label Encoded Columns:\\n\",credit[label_encode].head(20))"
   ]
  },
  {
   "cell_type": "code",
   "execution_count": 12,
   "metadata": {},
   "outputs": [
    {
     "name": "stdout",
     "output_type": "stream",
     "text": [
      "Dummy Columns for Card Type and Project: \n",
      " Index(['Balance', 'Balance Frequency', 'Purchases', 'One Off Purchases',\n",
      "       'Installment Purchases', 'Cash Advance', 'Purchase Frequency',\n",
      "       'One Off Purchase Frequency', 'Purchases Installments Frequency',\n",
      "       'Cash Advance Frequency', 'Cash Advance Transactions',\n",
      "       'Purchases Transactions', 'Credit Limit', 'Payments',\n",
      "       'Minimum Payments', 'Percentage Full Payment', 'Tenure', 'Attrited',\n",
      "       'Card Type_1', 'Card Type_2', 'Card Type_3', 'Product_1', 'Product_2',\n",
      "       'Product_3', 'Product_4', 'Product_5', 'Product_6'],\n",
      "      dtype='object')\n"
     ]
    }
   ],
   "source": [
    "hot_encode = ['Card Type','Product']\n",
    "\n",
    "credit = pd.get_dummies(credit, columns=hot_encode, drop_first=True)\n",
    "print(\"Dummy Columns for Card Type and Project: \\n\",credit.columns)"
   ]
  },
  {
   "cell_type": "code",
   "execution_count": 13,
   "metadata": {},
   "outputs": [
    {
     "name": "stdout",
     "output_type": "stream",
     "text": [
      "<class 'pandas.core.frame.DataFrame'>\n",
      "RangeIndex: 8950 entries, 0 to 8949\n",
      "Data columns (total 27 columns):\n",
      "Balance                             8950 non-null int64\n",
      "Balance Frequency                   8950 non-null float64\n",
      "Purchases                           8950 non-null int64\n",
      "One Off Purchases                   8950 non-null int64\n",
      "Installment Purchases               8950 non-null int64\n",
      "Cash Advance                        8950 non-null int64\n",
      "Purchase Frequency                  8950 non-null float64\n",
      "One Off Purchase Frequency          8950 non-null float64\n",
      "Purchases Installments Frequency    8950 non-null float64\n",
      "Cash Advance Frequency              8950 non-null float64\n",
      "Cash Advance Transactions           8950 non-null int64\n",
      "Purchases Transactions              8950 non-null int64\n",
      "Credit Limit                        8950 non-null int64\n",
      "Payments                            8950 non-null int64\n",
      "Minimum Payments                    8950 non-null int64\n",
      "Percentage Full Payment             8950 non-null float64\n",
      "Tenure                              8950 non-null int64\n",
      "Attrited                            8950 non-null int64\n",
      "Card Type_1                         8950 non-null uint8\n",
      "Card Type_2                         8950 non-null uint8\n",
      "Card Type_3                         8950 non-null uint8\n",
      "Product_1                           8950 non-null uint8\n",
      "Product_2                           8950 non-null uint8\n",
      "Product_3                           8950 non-null uint8\n",
      "Product_4                           8950 non-null uint8\n",
      "Product_5                           8950 non-null uint8\n",
      "Product_6                           8950 non-null uint8\n",
      "dtypes: float64(6), int64(12), uint8(9)\n",
      "memory usage: 1.3 MB\n"
     ]
    }
   ],
   "source": [
    "credit.info()"
   ]
  },
  {
   "cell_type": "code",
   "execution_count": 14,
   "metadata": {},
   "outputs": [],
   "source": [
    "#Creating training data set\n",
    "X = credit.drop(['Attrited'],axis =1 )\n",
    "y = credit['Attrited']"
   ]
  },
  {
   "cell_type": "code",
   "execution_count": 15,
   "metadata": {},
   "outputs": [],
   "source": [
    "X_train, X_test, y_train, y_test = train_test_split(X, y, test_size=0.3, random_state=1) # 70% training and 30% test"
   ]
  },
  {
   "cell_type": "markdown",
   "metadata": {},
   "source": [
    "# Build a Random Forest Classifier "
   ]
  },
  {
   "cell_type": "code",
   "execution_count": 16,
   "metadata": {},
   "outputs": [],
   "source": [
    "rf = RandomForestClassifier(class_weight={1:2},\n",
    "                              oob_score=True,\n",
    "                              random_state=21)"
   ]
  },
  {
   "cell_type": "code",
   "execution_count": 17,
   "metadata": {},
   "outputs": [
    {
     "data": {
      "text/plain": [
       "RandomForestClassifier(bootstrap=True, class_weight={1: 2}, criterion='gini',\n",
       "                       max_depth=None, max_features='auto', max_leaf_nodes=None,\n",
       "                       min_impurity_decrease=0.0, min_impurity_split=None,\n",
       "                       min_samples_leaf=1, min_samples_split=2,\n",
       "                       min_weight_fraction_leaf=0.0, n_estimators=10,\n",
       "                       n_jobs=None, oob_score=True, random_state=21, verbose=0,\n",
       "                       warm_start=False)"
      ]
     },
     "execution_count": 17,
     "metadata": {},
     "output_type": "execute_result"
    }
   ],
   "source": [
    "rf.fit(X_train,y_train)"
   ]
  },
  {
   "cell_type": "code",
   "execution_count": 18,
   "metadata": {},
   "outputs": [
    {
     "data": {
      "text/plain": [
       "array([1, 0, 0, 1, 0, 0, 0, 1, 0, 0, 0, 0, 0, 0, 1, 0, 0, 0, 1, 0],\n",
       "      dtype=int64)"
      ]
     },
     "execution_count": 18,
     "metadata": {},
     "output_type": "execute_result"
    }
   ],
   "source": [
    "#prediction on Training data\n",
    "y_train_pred = rf.predict(X_train)\n",
    "y_train_pred[0:20]\n"
   ]
  },
  {
   "cell_type": "code",
   "execution_count": 19,
   "metadata": {},
   "outputs": [
    {
     "data": {
      "text/plain": [
       "array([0, 0, 0, 0, 0, 0, 0, 0, 0, 0, 0, 0, 1, 0, 0, 0, 0, 0, 0, 0],\n",
       "      dtype=int64)"
      ]
     },
     "execution_count": 19,
     "metadata": {},
     "output_type": "execute_result"
    }
   ],
   "source": [
    "#prediction on Test data\n",
    "y_pred = rf.predict(X_test)\n",
    "y_pred[0:20]"
   ]
  },
  {
   "cell_type": "code",
   "execution_count": 20,
   "metadata": {},
   "outputs": [
    {
     "name": "stdout",
     "output_type": "stream",
     "text": [
      "Performance on Out Of Bag sample\n",
      "OOB Error:0.74\n",
      "\n",
      "\n",
      "Performance on Train Set:\n",
      "Confusion Matrix: [[4899    2]\n",
      " [ 175 1189]]\n",
      "\n",
      "Accuracy: 0.97\n",
      "Precision: 0.98\n",
      "Recall: 0.94\n",
      "f1 score: 0.96\n",
      "\n",
      "\n",
      "Performance on Test Set:\n",
      "Confusion Matrix: [[2046   76]\n",
      " [ 542   21]]\n",
      "\n",
      "Accuracy:0.77\n",
      "Precision: 0.50\n",
      "Recall: 0.50\n",
      "f1 score: 0.47\n"
     ]
    }
   ],
   "source": [
    "# Performance on Out Of Bag sample\n",
    "print(\"Performance on Out Of Bag sample\")\n",
    "print(\"OOB Error:{0:0.2f}\".format(rf.oob_score_))\n",
    "\n",
    "# Evaluate performance on Train set\n",
    "print(\"\\n\\nPerformance on Train Set:\")\n",
    "print(\"Confusion Matrix:\",metrics.confusion_matrix(y_train, y_train_pred))\n",
    "print(\"\\nAccuracy: {0:0.2f}\".format(metrics.accuracy_score(y_train, y_train_pred)))\n",
    "print(\"Precision: {0:0.2f}\".format(metrics.precision_score(y_train, y_train_pred, average=\"macro\")))\n",
    "print(\"Recall: {0:0.2f}\".format(metrics.recall_score(y_train, y_train_pred, average=\"macro\")))\n",
    "print(\"f1 score: {0:0.2f}\".format(metrics.f1_score(y_train, y_train_pred, average=\"macro\")))  \n",
    "\n",
    "print(\"\\n\\nPerformance on Test Set:\")\n",
    "print(\"Confusion Matrix:\",metrics.confusion_matrix(y_test, y_pred))\n",
    "print(\"\\nAccuracy:{0:0.2f}\".format(metrics.accuracy_score(y_test, y_pred)))\n",
    "print(\"Precision: {0:0.2f}\".format(metrics.precision_score(y_test, y_pred, average=\"macro\")))\n",
    "print(\"Recall: {0:0.2f}\".format(metrics.recall_score(y_test, y_pred, average=\"macro\"))) \n",
    "print(\"f1 score: {0:0.2f}\".format(metrics.f1_score(y_test, y_pred, average=\"macro\")))  "
   ]
  },
  {
   "cell_type": "code",
   "execution_count": 21,
   "metadata": {},
   "outputs": [
    {
     "name": "stdout",
     "output_type": "stream",
     "text": [
      "[0.10561221 0.03171282 0.07445704 0.05143317 0.05784233 0.05757465\n",
      " 0.03177013 0.03374745 0.03001456 0.03501737 0.03789269 0.05804262\n",
      " 0.08412685 0.10975236 0.10589926 0.0316297  0.01678971 0.00324356\n",
      " 0.00819025 0.00270149 0.00206816 0.00564855 0.00911409 0.01152056\n",
      " 0.00229658 0.00190185]\n"
     ]
    }
   ],
   "source": [
    "importances = rf.feature_importances_\n",
    "print(importances)"
   ]
  },
  {
   "cell_type": "code",
   "execution_count": 22,
   "metadata": {},
   "outputs": [
    {
     "data": {
      "image/png": "[encoded data removed]",
      "text/plain": [
       "<Figure size 1296x648 with 1 Axes>"
      ]
     },
     "metadata": {
      "needs_background": "light"
     },
     "output_type": "display_data"
    }
   ],
   "source": [
    "features = X.columns\n",
    "importances = rf.feature_importances_\n",
    "indices = np.argsort(importances)\n",
    "\n",
    "\n",
    "plt.figure(figsize=(18,9))\n",
    "plt.title('Feature Importances')\n",
    "plt.barh(range(len(indices)), importances[indices], color='b', align='center')\n",
    "plt.yticks(range(len(indices)), [features[i] for i in indices])\n",
    "plt.xlabel('Relative Importance')\n",
    "plt.show()"
   ]
  },
  {
   "attachments": {},
   "cell_type": "markdown",
   "metadata": {},
   "source": [
    "Feature that are causing Customers to leave :\n",
    "Payments,\n",
    "Minimum Payments,\n",
    "Balance,\n",
    "Credit  Limit,\n",
    "Purchases,\n",
    "Purchase Transactions,\n",
    "Installment Purchases,\n",
    "Cash Advance\n",
    "\n"
   ]
  },
  {
   "cell_type": "code",
   "execution_count": 26,
   "metadata": {},
   "outputs": [
    {
     "ename": "SyntaxError",
     "evalue": "invalid syntax (<ipython-input-26-bb1a55631f65>, line 1)",
     "output_type": "error",
     "traceback": [
      "\u001b[1;36m  File \u001b[1;32m\"<ipython-input-26-bb1a55631f65>\"\u001b[1;36m, line \u001b[1;32m1\u001b[0m\n\u001b[1;33m    final_data = pd.DataFrame({'Customer ID':Customer ID,'Attrited':y_train_pred})\u001b[0m\n\u001b[1;37m                                                       ^\u001b[0m\n\u001b[1;31mSyntaxError\u001b[0m\u001b[1;31m:\u001b[0m invalid syntax\n"
     ]
    }
   ],
   "source": [
    "final_data = pd.DataFrame({'Customer ID':Customer ID,'Attrited':y_train_pred})\n",
    "final_data.head()"
   ]
  },
  {
   "cell_type": "code",
   "execution_count": null,
   "metadata": {},
   "outputs": [],
   "source": []
  }
 ],
 "metadata": {
  "kernelspec": {
   "display_name": "Python 3",
   "language": "python",
   "name": "python3"
  },
  "language_info": {
   "codemirror_mode": {
    "name": "ipython",
    "version": 3
   },
   "file_extension": ".py",
   "mimetype": "text/x-python",
   "name": "python",
   "nbconvert_exporter": "python",
   "pygments_lexer": "ipython3",
   "version": "3.7.3"
  }
 },
 "nbformat": 4,
 "nbformat_minor": 2
}
